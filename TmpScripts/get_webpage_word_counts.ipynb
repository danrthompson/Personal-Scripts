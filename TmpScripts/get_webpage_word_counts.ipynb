{
 "cells": [
  {
   "cell_type": "code",
   "execution_count": 1,
   "metadata": {},
   "outputs": [],
   "source": [
    "import os\n",
    "\n",
    "import math\n",
    "import pandas as pd\n",
    "import requests\n",
    "import sys\n",
    "from urllib.request import urlopen\n",
    "from bs4 import BeautifulSoup, Comment\n",
    "\n"
   ]
  },
  {
   "cell_type": "code",
   "execution_count": 2,
   "metadata": {},
   "outputs": [],
   "source": [
    "time_taken_chp_6 = 115\n",
    "time_taken_chp_7 = 170\n",
    "time_taken_chp_8 = 92\n"
   ]
  },
  {
   "cell_type": "code",
   "execution_count": 3,
   "metadata": {},
   "outputs": [],
   "source": [
    "def get_webpage_word_counts(url):\n",
    "    r = requests.get(url)\n",
    "    s = BeautifulSoup(r.content, \"html.parser\")\n",
    "    for sc in s([\"script\", \"style\"]):\n",
    "        sc.extract()\n",
    "    for cm in s.find_all(string=lambda t: isinstance(t, Comment)):\n",
    "        cm.extract()\n",
    "    txt = s.find_all(text=True)\n",
    "    out = []\n",
    "    for t in txt:\n",
    "        out += t.replace(\"\\n\", \"\").replace(\"\\r\", \"\").split(\" \")\n",
    "    out = [t for t in out if t]\n",
    "    return len(out)\n",
    "\n",
    "\n",
    "def get_summaries_from_toggl(start_date, end_date, project_ids):\n",
    "    return requests.post(\n",
    "        \"https://api.track.toggl.com/reports/api/v3/workspace/397836/summary/time_entries\",\n",
    "        headers={\"Content-Type\": \"application/json\"},\n",
    "        data=json.dumps(\n",
    "            {\"end_date\": end_date, \"start_date\": start_date, \"project_ids\": project_ids}\n",
    "        ),\n",
    "        auth=(os.environ.get('TOGGL_API_KEY'), \"api_token\"),\n",
    "    ).json()\n",
    "\n"
   ]
  },
  {
   "cell_type": "code",
   "execution_count": 4,
   "metadata": {},
   "outputs": [],
   "source": [
    "def print_time(label, mins):\n",
    "    mins_rounded = round(mins, 2)\n",
    "    hours = math.floor(mins / 60)\n",
    "    mins = round(mins % 60)\n",
    "    print(f\"{label}: {hours}:{mins:02d} ({mins_rounded} minutes)\")\n",
    "\n"
   ]
  },
  {
   "cell_type": "code",
   "execution_count": 5,
   "metadata": {},
   "outputs": [
    {
     "data": {
      "text/plain": [
       "2297"
      ]
     },
     "execution_count": 5,
     "metadata": {},
     "output_type": "execute_result"
    }
   ],
   "source": [
    "get_webpage_word_counts(\"https://wesmckinney.com/book/preface.html\")"
   ]
  },
  {
   "cell_type": "code",
   "execution_count": 6,
   "metadata": {},
   "outputs": [],
   "source": [
    "# write a function to get all the pages from the table of contents\n",
    "\n",
    "\n",
    "def get_all_pages(url):\n",
    "    r = requests.get(url)\n",
    "    s = BeautifulSoup(r.content, \"html.parser\")\n",
    "    links = s.find_all(\"a\")\n",
    "    out = []\n",
    "    for link in links:\n",
    "        if link.get(\"href\"):\n",
    "            # the link contains a span with class \"chapter-title\"\n",
    "            if link.find(\"span\", {\"class\": \"chapter-title\"}):\n",
    "                # add the absolute link path (not the relative path) to the output\n",
    "                out.append(\n",
    "                    (\n",
    "                        \"https://wesmckinney.com/book\" + link.get(\"href\").lstrip(\".\"),\n",
    "                        link.find(\"span\", {\"class\": \"chapter-number\"}).text,\n",
    "                        link.find(\"span\", {\"class\": \"chapter-title\"}).text,\n",
    "                    )\n",
    "                )\n",
    "    return out\n",
    "\n"
   ]
  },
  {
   "cell_type": "code",
   "execution_count": 7,
   "metadata": {},
   "outputs": [
    {
     "name": "stdout",
     "output_type": "stream",
     "text": [
      "[('https://wesmckinney.com/book/preliminaries.html', '1', 'Preliminaries'), ('https://wesmckinney.com/book/python-basics.html', '2', 'Python Language Basics, IPython, and Jupyter Notebooks'), ('https://wesmckinney.com/book/python-builtin.html', '3', 'Built-In Data Structures, Functions, and Files'), ('https://wesmckinney.com/book/numpy-basics.html', '4', 'NumPy Basics: Arrays and Vectorized Computation'), ('https://wesmckinney.com/book/pandas-basics.html', '5', 'Getting Started with pandas'), ('https://wesmckinney.com/book/accessing-data.html', '6', 'Data Loading, Storage, and File Formats'), ('https://wesmckinney.com/book/data-cleaning.html', '7', 'Data Cleaning and Preparation'), ('https://wesmckinney.com/book/data-wrangling.html', '8', 'Data Wrangling: Join, Combine, and Reshape'), ('https://wesmckinney.com/book/plotting-and-visualization.html', '9', 'Plotting and Visualization'), ('https://wesmckinney.com/book/data-aggregation.html', '10', 'Data Aggregation and Group Operations'), ('https://wesmckinney.com/book/time-series.html', '11', 'Time Series'), ('https://wesmckinney.com/book/modeling.html', '12', 'Introduction to Modeling Libraries in Python'), ('https://wesmckinney.com/book/data-analysis-examples.html', '13', 'Data Analysis Examples'), ('https://wesmckinney.com/book/advanced-numpy.html', 'A', 'Advanced NumPy'), ('https://wesmckinney.com/book/ipython.html', 'B', 'More on the IPython System')]\n"
     ]
    }
   ],
   "source": [
    "# get pages\n",
    "pages = get_all_pages(\"https://wesmckinney.com/book/preface.html\")\n",
    "pages = pages[:-1]\n",
    "print(pages)\n"
   ]
  },
  {
   "cell_type": "code",
   "execution_count": 8,
   "metadata": {},
   "outputs": [
    {
     "data": {
      "text/plain": [
       "[('1', 5532),\n",
       " ('2', 8381),\n",
       " ('3', 11518),\n",
       " ('4', 13122),\n",
       " ('5', 13401),\n",
       " ('6', 8648),\n",
       " ('7', 12433),\n",
       " ('8', 9555),\n",
       " ('9', 6464),\n",
       " ('10', 10242),\n",
       " ('11', 14783),\n",
       " ('12', 5683),\n",
       " ('13', 11937),\n",
       " ('A', 11387),\n",
       " ('B', 8737)]"
      ]
     },
     "execution_count": 8,
     "metadata": {},
     "output_type": "execute_result"
    }
   ],
   "source": [
    "# get the word counts for each page\n",
    "word_counts = []\n",
    "for page in pages:\n",
    "    word_counts.append((page[1], get_webpage_word_counts(page[0])))\n",
    "word_counts\n"
   ]
  },
  {
   "cell_type": "code",
   "execution_count": null,
   "metadata": {},
   "outputs": [],
   "source": [
    "# store the word counts as a variable\n",
    "word_counts = [\n",
    "    (\"1\", 5532),\n",
    "    (\"2\", 8381),\n",
    "    (\"3\", 11518),\n",
    "    (\"4\", 13122),\n",
    "    (\"5\", 13401),\n",
    "    (\"6\", 8648),\n",
    "    (\"7\", 12433),\n",
    "    (\"8\", 9555),\n",
    "    (\"9\", 6464),\n",
    "    (\"10\", 10242),\n",
    "    (\"11\", 14783),\n",
    "    (\"12\", 5683),\n",
    "    (\"13\", 11937),\n",
    "    (\"A\", 11387),\n",
    "    (\"B\", 8737),\n",
    "]\n"
   ]
  },
  {
   "cell_type": "code",
   "execution_count": null,
   "metadata": {},
   "outputs": [],
   "source": [
    "all_times_taken = [\n",
    "    time_taken_chp_6,\n",
    "    time_taken_chp_7,\n",
    "    time_taken_chp_8,\n",
    "]\n",
    "total_time_taken = sum(all_times_taken)\n",
    "not_done_counts = word_counts[8:]\n",
    "total = sum(map(lambda x: x[1], word_counts))\n",
    "chp_6, chp_7, chp_8, chp_9 = word_counts[5:9]\n",
    "chp_6_pct = chp_6[1] / total\n",
    "chp_7_pct = chp_7[1] / total\n",
    "chp_8_pct = chp_8[1] / total\n",
    "chp_9_pct = chp_9[1] / total\n",
    "done_tracked_percentages = [\n",
    "    chp_6_pct,\n",
    "    chp_7_pct,\n",
    "    chp_8_pct,\n",
    "]\n",
    "done_tracked_total_pct = sum(done_tracked_percentages)\n",
    "not_done = sum(map(lambda x: x[1], not_done_counts))\n",
    "not_done_pct = not_done / total\n",
    "done_pct = 1 - not_done_pct\n",
    "mins_remaining_from_6 = not_done_pct * (time_taken_chp_6 / chp_6_pct)\n",
    "mins_remaining_from_7 = not_done_pct * (time_taken_chp_7 / chp_7_pct)\n",
    "mins_remaining_from_8 = not_done_pct * (time_taken_chp_8 / chp_8_pct)\n",
    "mins_remaining_from_7_8 = not_done_pct * (\n",
    "    (time_taken_chp_8 + time_taken_chp_7) / (chp_8_pct + chp_7_pct)\n",
    ")\n",
    "mins_total_from_all = total_time_taken / done_tracked_total_pct\n",
    "mins_remaining_from_all = not_done_pct * mins_total_from_all\n",
    "mins_for_chp_9_from_all = chp_9_pct * mins_total_from_all\n",
    "mins_for_chp_9_from_7 = chp_9_pct * (time_taken_chp_7 / chp_7_pct)\n",
    "mins_for_chp_9_from_8 = chp_9_pct * (time_taken_chp_8 / chp_8_pct)\n",
    "mins_for_chp_9_from_7_8 = chp_9_pct * (\n",
    "    (time_taken_chp_8 + time_taken_chp_7) / (chp_8_pct + chp_7_pct)\n",
    ")\n"
   ]
  },
  {
   "cell_type": "code",
   "execution_count": null,
   "metadata": {},
   "outputs": [],
   "source": [
    "print(f\"Done: {done_pct}\")\n",
    "print(f\"Not Done: {not_done_pct}\")"
   ]
  },
  {
   "cell_type": "code",
   "execution_count": null,
   "metadata": {},
   "outputs": [],
   "source": [
    "print_time(\"Estimated time remaining from 6\", mins_remaining_from_6)\n",
    "print_time(\"Estimated time remaining from 7:\", mins_remaining_from_7)\n",
    "print_time(\"Estimated time remaining from 8:\", mins_remaining_from_8)\n",
    "print_time(\"Estimated time remaining from 7+8:\", mins_remaining_from_7_8)\n",
    "print_time(\"Estimated time remaining from all:\", mins_remaining_from_all)\n",
    "print_time(\"Estimated time for chapter 9 from all:\", mins_for_chp_9_from_all)\n",
    "print_time(\"Estimated time for chapter 9 from 8:\", mins_for_chp_9_from_8)\n",
    "print_time(\"Estimated time for chapter 9 from 7:\", mins_for_chp_9_from_7)\n",
    "print_time(\"Estimated time for chapter 9 from 7+8:\", mins_for_chp_9_from_7_8)"
   ]
  },
  {
   "cell_type": "code",
   "execution_count": null,
   "metadata": {},
   "outputs": [],
   "source": []
  },
  {
   "cell_type": "code",
   "execution_count": null,
   "metadata": {},
   "outputs": [],
   "source": [
    "# make word_count into a dataframe\n",
    "df = pd.DataFrame(word_counts, columns=[\"chapter\", \"word_count\"])\n",
    "df"
   ]
  },
  {
   "cell_type": "code",
   "execution_count": null,
   "metadata": {},
   "outputs": [],
   "source": []
  }
 ],
 "metadata": {
  "kernelspec": {
   "display_name": "pydata-book",
   "language": "python",
   "name": "python3"
  },
  "language_info": {
   "codemirror_mode": {
    "name": "ipython",
    "version": 3
   },
   "file_extension": ".py",
   "mimetype": "text/x-python",
   "name": "python",
   "nbconvert_exporter": "python",
   "pygments_lexer": "ipython3",
   "version": "3.11.0"
  },
  "orig_nbformat": 4,
  "vscode": {
   "interpreter": {
    "hash": "d0a1c35a05dd9a0f90cc68cb48205e5663af9407a5beae0119d15e7f542ce054"
   }
  }
 },
 "nbformat": 4,
 "nbformat_minor": 2
}
