{
 "cells": [
  {
   "cell_type": "code",
   "execution_count": 6,
   "metadata": {},
   "outputs": [],
   "source": [
    "import os\n",
    "\n",
    "from datetime import datetime, timedelta\n",
    "import json\n",
    "import requests"
   ]
  },
  {
   "cell_type": "code",
   "execution_count": 7,
   "metadata": {},
   "outputs": [],
   "source": [
    "DATE_FORMAT = \"%Y-%m-%d\"\n",
    "WORK_PROJECTS = [186181594, 188079427]\n",
    "TOOLING_PROJECTS = [187944113,186181587,188328043]\n",
    "\n",
    "API_KEY = os.environ.get('TOGGL_API_KEY')\n",
    "\n",
    "SUMMARY_URL = \"https://api.track.toggl.com/reports/api/v3/workspace/397836/summary/time_entries\"\n",
    "CURRENT_ENTRY_URL = \"https://api.track.toggl.com/api/v9/me/time_entries/current\""
   ]
  },
  {
   "cell_type": "code",
   "execution_count": null,
   "metadata": {},
   "outputs": [],
   "source": []
  },
  {
   "cell_type": "code",
   "execution_count": 11,
   "metadata": {},
   "outputs": [],
   "source": [
    "def get_entry_secs_from_toggl(start_date, end_date, project_ids):\n",
    "    time_entries = requests.post(\n",
    "        SUMMARY_URL,\n",
    "        headers={\"Content-Type\": \"application/json\"},\n",
    "        data=json.dumps(\n",
    "            {\"end_date\": end_date, \"start_date\": start_date, \"project_ids\": project_ids}\n",
    "        ),\n",
    "        auth=(API_KEY, \"api_token\"),\n",
    "    ).json()\n",
    "\n",
    "    seconds = 0\n",
    "    groups = time_entries[\"groups\"]\n",
    "    for group in groups:\n",
    "        for sub_group in group[\"sub_groups\"]:\n",
    "            seconds += sub_group[\"seconds\"]\n",
    "    return seconds\n",
    "\n",
    "def get_current_time_entry_secs_from_toggl(project_ids):\n",
    "    time_entry = requests.get(\n",
    "        CURRENT_ENTRY_URL,\n",
    "        headers={\"Content-Type\": \"application/json\"},\n",
    "        auth=(API_KEY, \"api_token\"),\n",
    "    ).json()\n",
    "\n",
    "    if 'start' in time_entry and 'project_id' in time_entry and time_entry['project_id'] in project_ids:\n",
    "        cts = datetime.strptime(time_entry['start'], '%Y-%m-%dT%H:%M:%S%z')\n",
    "        diff = datetime.now(cts.tzinfo) - cts\n",
    "        return diff.seconds\n",
    "\n",
    "    return 0\n",
    "\n",
    "def get_time_entry_secs(project_ids, end_date, duration):\n",
    "    end_date_str = end_date.strftime(DATE_FORMAT)\n",
    "    start_date = end_date - timedelta(days=(duration - 1))\n",
    "    start_date_str = start_date.strftime(DATE_FORMAT)\n",
    "    today_secs = get_entry_secs_from_toggl(start_date_str, end_date_str, project_ids)\n",
    "    if end_date == datetime.today():\n",
    "        today_secs += get_current_time_entry_secs_from_toggl(project_ids)\n",
    "    return today_secs\n",
    "\n",
    "\n",
    "\n",
    "def get_today_time(project_ids):\n",
    "    return get_time_entry_secs(project_ids, datetime.today(), 1)\n",
    "\n",
    "def get_week_time(project_ids):\n",
    "    return get_time_entry_secs(project_ids, datetime.today(), 7)\n"
   ]
  },
  {
   "cell_type": "code",
   "execution_count": 26,
   "metadata": {},
   "outputs": [
    {
     "data": {
      "text/plain": [
       "10670"
      ]
     },
     "execution_count": 26,
     "metadata": {},
     "output_type": "execute_result"
    }
   ],
   "source": [
    "total_mins_today = minutes + summary_today/60\n",
    "total_mins_last_week = minutes + summary_last_week/60\n",
    "\n",
    "hours_today = total_mins_today/60\n",
    "mod_mins_today = total_mins_today%60\n",
    "pad with leading zero if needed\n",
    "if mod_mins_today < 10:\n",
    "    mod_mins_today = \"0\" + str(mod_mins_today)\n",
    "\n",
    "open(\"/Users/danthompson/Code/Scripts/CLI/toggl textbar/data/opt_tooling_time_today.txt\", \"w\").write(str(total_mins_today))\n",
    "open(\"/Users/danthompson/Code/Scripts/CLI/toggl textbar/data/opt_tooling_time_last_week.txt\", \"w\").write(str(total_mins_last_week))\n",
    "\n",
    "print \"%s:%s\" % (hours_today, mod_mins_today)\n"
   ]
  },
  {
   "cell_type": "code",
   "execution_count": 9,
   "metadata": {},
   "outputs": [
    {
     "data": {
      "text/plain": [
       "{'id': 2821607554,\n",
       " 'workspace_id': 397836,\n",
       " 'project_id': 186181587,\n",
       " 'task_id': None,\n",
       " 'billable': False,\n",
       " 'start': '2023-01-29T23:19:10+00:00',\n",
       " 'stop': None,\n",
       " 'duration': -1675034350,\n",
       " 'description': 'Worthwhile',\n",
       " 'tags': None,\n",
       " 'tag_ids': None,\n",
       " 'duronly': True,\n",
       " 'at': '2023-01-29T23:19:10+00:00',\n",
       " 'server_deleted_at': None,\n",
       " 'user_id': 522161,\n",
       " 'uid': 522161,\n",
       " 'wid': 397836,\n",
       " 'pid': 186181587}"
      ]
     },
     "execution_count": 9,
     "metadata": {},
     "output_type": "execute_result"
    }
   ],
   "source": [
    "get_current_time_entry_from_toggl(WORK_PROJECTS)"
   ]
  },
  {
   "cell_type": "code",
   "execution_count": 56,
   "metadata": {},
   "outputs": [],
   "source": []
  },
  {
   "cell_type": "code",
   "execution_count": 40,
   "metadata": {},
   "outputs": [],
   "source": [
    "summary_today = get_summaries_from_toggl(today, today, [186181594, 188079427])\n",
    "summary_last_week = get_summaries_from_toggl(last_week, today, [186181594, 188079427])\n",
    "\n",
    "total = get_seconds_from_summary(summary_today)\n",
    "total += get_seconds_from_summary(summary_last_week)\n"
   ]
  },
  {
   "cell_type": "code",
   "execution_count": 57,
   "metadata": {},
   "outputs": [
    {
     "name": "stdout",
     "output_type": "stream",
     "text": [
      "[2400, 1800, 15500, 6919, 10234, 5564, 3182, 7635]\n"
     ]
    }
   ],
   "source": [
    "groups = (group['sub_groups'] for group in summary_last_week['groups'])\n",
    "seconds = (subgroup['seconds'] for group in groups for subgroup in group)\n",
    "print(list(seconds))"
   ]
  },
  {
   "cell_type": "code",
   "execution_count": 36,
   "metadata": {},
   "outputs": [
    {
     "data": {
      "text/plain": [
       "[{'id': 186181594,\n",
       "  'sub_groups': [{'id': None, 'title': 'Business ideas', 'seconds': 2400},\n",
       "   {'id': None, 'title': 'Course', 'seconds': 840},\n",
       "   {'id': None, 'title': 'Course - Chp 9', 'seconds': 2050}]}]"
      ]
     },
     "execution_count": 36,
     "metadata": {},
     "output_type": "execute_result"
    }
   ],
   "source": [
    "summary_today"
   ]
  },
  {
   "cell_type": "code",
   "execution_count": 37,
   "metadata": {},
   "outputs": [],
   "source": [
    "def get_seconds_from_summary(summary_json):\n",
    "    seconds = 0\n",
    "    groups = summary_json[\"groups\"]\n",
    "    for group in groups:\n",
    "        for sub_group in group[\"sub_groups\"]:\n",
    "            seconds += sub_group[\"seconds\"]\n",
    "    return seconds"
   ]
  },
  {
   "cell_type": "code",
   "execution_count": 38,
   "metadata": {},
   "outputs": [
    {
     "data": {
      "text/plain": [
       "5290"
      ]
     },
     "execution_count": 38,
     "metadata": {},
     "output_type": "execute_result"
    }
   ],
   "source": [
    "get_seconds_from_summary(summary_today)"
   ]
  },
  {
   "cell_type": "code",
   "execution_count": null,
   "metadata": {},
   "outputs": [],
   "source": []
  }
 ],
 "metadata": {
  "kernelspec": {
   "display_name": "pydata-book",
   "language": "python",
   "name": "python3"
  },
  "language_info": {
   "codemirror_mode": {
    "name": "ipython",
    "version": 3
   },
   "file_extension": ".py",
   "mimetype": "text/x-python",
   "name": "python",
   "nbconvert_exporter": "python",
   "pygments_lexer": "ipython3",
   "version": "3.11.0"
  },
  "orig_nbformat": 4,
  "vscode": {
   "interpreter": {
    "hash": "d0a1c35a05dd9a0f90cc68cb48205e5663af9407a5beae0119d15e7f542ce054"
   }
  }
 },
 "nbformat": 4,
 "nbformat_minor": 2
}
