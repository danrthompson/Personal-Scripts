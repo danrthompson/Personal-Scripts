{
 "cells": [
  {
   "cell_type": "code",
   "execution_count": null,
   "metadata": {},
   "outputs": [],
   "source": [
    "import requests\n",
    "from datetime import datetime, timedelta\n",
    "\n",
    "# Toggl API settings\n",
    "API_TOKEN = 'YOUR_TOGGL_API_TOKEN'\n",
    "HEADERS = {\n",
    "    'Authorization': f'Basic {API_TOKEN}',\n",
    "    'Content-Type': 'application/json'\n",
    "}\n",
    "BASE_URL = 'https://api.track.toggl.com/api/v8/'\n",
    "\n",
    "# Calculate date range for the last month\n",
    "end_date = datetime.now().date()\n",
    "start_date = end_date - timedelta(days=30)\n",
    "\n",
    "# Retrieve time entries\n",
    "time_entries_response = requests.get(\n",
    "    f'{BASE_URL}time_entries?start_date={start_date}&end_date={end_date}',\n",
    "    headers=HEADERS\n",
    ")\n",
    "time_entries = time_entries_response.json()\n",
    "\n",
    "# Retrieve projects\n",
    "projects_response = requests.get(f'{BASE_URL}projects', headers=HEADERS)\n",
    "projects = projects_response.json()"
   ]
  },
  {
   "cell_type": "code",
   "execution_count": null,
   "metadata": {},
   "outputs": [],
   "source": [
    "import pandas as pd\n",
    "\n",
    "df_time_entries = pd.DataFrame(time_entries)\n",
    "df_projects = pd.DataFrame(projects)"
   ]
  },
  {
   "cell_type": "code",
   "execution_count": null,
   "metadata": {},
   "outputs": [],
   "source": [
    "# Join time entries with projects\n",
    "df_joined = df_time_entries.merge(df_projects, left_on='pid', right_on='id', how='inner')\n",
    "\n",
    "# Group by project and sum durations\n",
    "df_duration = df_joined.groupby('name')['duration'].sum().sort_values(ascending=False).reset_index()"
   ]
  },
  {
   "cell_type": "code",
   "execution_count": null,
   "metadata": {},
   "outputs": [],
   "source": [
    "df_unique_entries = df_joined.groupby('name').size().sort_values(\n",
    "    ascending=False).reset_index(name='unique_entries_count')"
   ]
  }
 ],
 "metadata": {
  "language_info": {
   "name": "python"
  },
  "orig_nbformat": 4
 },
 "nbformat": 4,
 "nbformat_minor": 2
}
