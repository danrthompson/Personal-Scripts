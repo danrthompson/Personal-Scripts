{
 "cells": [
  {
   "cell_type": "code",
   "execution_count": 1,
   "metadata": {},
   "outputs": [],
   "source": [
    "import os\n",
    "\n",
    "import cv2\n",
    "import pytesseract\n",
    "import openai\n",
    "\n",
    "from openai_utils.src.openai_utils import (\n",
    "    set_openai_api_key,\n",
    "    get_text_from_openai_chat_completion,\n",
    "    get_openai_chat_completion,\n",
    ")"
   ]
  },
  {
   "cell_type": "code",
   "execution_count": 2,
   "metadata": {},
   "outputs": [],
   "source": [
    "# Set openai api key with helper\n",
    "set_openai_api_key(openai)\n",
    "# Path to Tesseract executable (replace with your own path)\n",
    "pytesseract.pytesseract.tesseract_cmd = '/opt/homebrew/bin/tesseract'"
   ]
  },
  {
   "cell_type": "code",
   "execution_count": 3,
   "metadata": {},
   "outputs": [],
   "source": [
    "PROMPT = '''\n",
    "I have taken a screenshot of a description of a song that I'm listening to. I already used OCR to parse the text from the image. Now I would like you to categorize that text into a particular format.\n",
    "\n",
    "I am trying to capture the following information:\n",
    "| Mental state | Activity | Genre | Track title | Neural effect level | Musical complexity | Mood | Instrumentation |\n",
    "\n",
    "Here is a sample input from a previous screenshot:\n",
    "=====BEGIN SAMPLE=====\n",
    "7 = full capacity\n",
    "\n",
    "a. ELECTRONIC - HIGH NEURAL EFFECT\n",
    "\n",
    "Sw ODA\n",
    "\n",
    "track Information similar tracks\n",
    "\n",
    "mental state activity\n",
    "focus deep work\n",
    "\n",
    "musical complexity neural effect level\n",
    "\n",
    "= medium = high\n",
    "\n",
    "mood\n",
    "chill - upbeat\n",
    "\n",
    "instrumentation\n",
    "electronic percussion + arp synth - arp synth bass\n",
    "=====END SAMPLE=====\n",
    "\n",
    "Here is the correct output for the sample input:\n",
    "=====BEGIN OUTPUT=====\n",
    "| Focus | Deep work | Electronic | Full capacity | High | Medium | Chill - upbeat | Electronic percussion - Arp synth - Arp synth bass |\n",
    "=====END OUTPUT=====\n",
    "\n",
    "Please categorize the following text into the correct format. You can use the sample input as a guide. If you have any questions, please ask. Thank you!\n",
    "\n",
    "=====BEGIN INPUT=====\n",
    "{input}\n",
    "=====END INPUT=====\n",
    "'''"
   ]
  },
  {
   "cell_type": "code",
   "execution_count": 4,
   "metadata": {},
   "outputs": [],
   "source": [
    "def get_text_from_screenshot(filename: str) -> str:\n",
    "    image = cv2.imread(os.path.expanduser(image_path))\n",
    "\n",
    "    # Convert image to grayscale\n",
    "    gray = cv2.cvtColor(image, cv2.COLOR_BGR2GRAY)\n",
    "\n",
    "    # Apply threshold to convert grayscale image to binary image\n",
    "    threshold = cv2.threshold(gray, 0, 255, cv2.THRESH_BINARY + cv2.THRESH_OTSU)[1]\n",
    "\n",
    "    # Apply dilation and erosion to remove noise\n",
    "    kernel = cv2.getStructuringElement(cv2.MORPH_RECT, (3, 3))\n",
    "    clean_image = cv2.morphologyEx(threshold, cv2.MORPH_CLOSE, kernel)\n",
    "\n",
    "    # Use Tesseract to extract text from image\n",
    "    text: str = pytesseract.image_to_string(clean_image)\n",
    "\n",
    "    # Return extracted text\n",
    "    return text"
   ]
  },
  {
   "cell_type": "code",
   "execution_count": 5,
   "metadata": {},
   "outputs": [],
   "source": [
    "image_path = \"data/computer_text.jpg\""
   ]
  },
  {
   "cell_type": "code",
   "execution_count": 6,
   "metadata": {},
   "outputs": [],
   "source": [
    "input_text = get_text_from_screenshot(image_path)\n",
    "prompt_with_input = PROMPT.format(input=input_text)"
   ]
  },
  {
   "cell_type": "code",
   "execution_count": 7,
   "metadata": {},
   "outputs": [
    {
     "data": {
      "text/plain": [
       "<OpenAIObject chat.completion id=chatcmpl-78EtIVJEWvVQBO6nA4hrqEFmm2cXe at 0x160f53f10> JSON: {\n",
       "  \"choices\": [\n",
       "    {\n",
       "      \"finish_reason\": \"stop\",\n",
       "      \"index\": 0,\n",
       "      \"message\": {\n",
       "        \"content\": \"| Focus | Deep work | Lo-fi | Topaz | High | High | Driving + Chill - Hopeful - Downtempo | Electronic percussion - Synth bass - Chimes/Bells - Organic percussion - Electric keys - Processed vocals |\",\n",
       "        \"role\": \"assistant\"\n",
       "      }\n",
       "    }\n",
       "  ],\n",
       "  \"created\": 1682198220,\n",
       "  \"id\": \"chatcmpl-78EtIVJEWvVQBO6nA4hrqEFmm2cXe\",\n",
       "  \"model\": \"gpt-3.5-turbo-0301\",\n",
       "  \"object\": \"chat.completion\",\n",
       "  \"usage\": {\n",
       "    \"completion_tokens\": 49,\n",
       "    \"prompt_tokens\": 384,\n",
       "    \"total_tokens\": 433\n",
       "  }\n",
       "}"
      ]
     },
     "execution_count": 7,
     "metadata": {},
     "output_type": "execute_result"
    }
   ],
   "source": [
    "completion = get_openai_chat_completion(prompt_with_input)\n",
    "completion"
   ]
  },
  {
   "cell_type": "code",
   "execution_count": 8,
   "metadata": {},
   "outputs": [
    {
     "data": {
      "text/plain": [
       "'| Focus | Deep work | Lo-fi | Topaz | High | High | Driving + Chill - Hopeful - Downtempo | Electronic percussion - Synth bass - Chimes/Bells - Organic percussion - Electric keys - Processed vocals |'"
      ]
     },
     "execution_count": 8,
     "metadata": {},
     "output_type": "execute_result"
    }
   ],
   "source": [
    "get_text_from_openai_chat_completion(completion)"
   ]
  }
 ],
 "metadata": {
  "kernelspec": {
   "display_name": "Python 3",
   "language": "python",
   "name": "python3"
  },
  "language_info": {
   "codemirror_mode": {
    "name": "ipython",
    "version": 3
   },
   "file_extension": ".py",
   "mimetype": "text/x-python",
   "name": "python",
   "nbconvert_exporter": "python",
   "pygments_lexer": "ipython3",
   "version": "3.10.5"
  },
  "orig_nbformat": 4
 },
 "nbformat": 4,
 "nbformat_minor": 2
}
