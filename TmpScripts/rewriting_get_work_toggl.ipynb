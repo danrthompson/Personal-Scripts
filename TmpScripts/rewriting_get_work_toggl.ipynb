{
 "cells": [
  {
   "cell_type": "code",
   "execution_count": 136,
   "metadata": {},
   "outputs": [],
   "source": [
    "import os\n",
    "\n",
    "import requests\n",
    "from datetime import datetime, timedelta"
   ]
  },
  {
   "cell_type": "code",
   "execution_count": 137,
   "metadata": {},
   "outputs": [],
   "source": [
    "WORK_PROJECT_IDS = [186181594, 188079427, 187316243]\n",
    "TOOLING_PROJECT_IDS = [187944113, 186181587, 188328043]\n",
    "\n",
    "DATE_FORMAT = \"%Y-%m-%d\"\n",
    "\n",
    "LAST_WEEK_FILE_NAME = \"/Users/danthompson/Code/Scripts/CLI/toggl textbar/data/total_work_time_last_week.txt\"\n",
    "TODAY_FILE_NAME = \"/Users/danthompson/Code/Scripts/CLI/toggl textbar/data/total_work_time_today.txt\""
   ]
  },
  {
   "cell_type": "code",
   "execution_count": 138,
   "metadata": {},
   "outputs": [],
   "source": [
    "\n",
    "def get_time_entries(start_date, project_ids, end_date=None):\n",
    "    if end_date is None:\n",
    "        end_date = datetime.now().strftime(DATE_FORMAT)\n",
    "    url = \"https://api.track.toggl.com/reports/api/v3/workspace/397836/summary/time_entries\"\n",
    "    headers = {\n",
    "        \"Content-Type\": \"application/json\"\n",
    "    }\n",
    "    auth = (os.environ.get('TOGGL_API_KEY'), \"api_token\")\n",
    "    payload = {\n",
    "        \"start_date\": start_date,\n",
    "        \"end_date\": end_date,\n",
    "        \"project_ids\": project_ids\n",
    "    }\n",
    "\n",
    "    response: Response = requests.post(url, headers=headers, auth=auth, json=payload)\n",
    "    response_json = response.json()\n",
    "    subgroups = (group['sub_groups'] for group in response_json[\"groups\"])\n",
    "    nested_subgroups = (subgroup for subgroup in subgroups for subgroup in subgroup)\n",
    "    return sum([subgroup['seconds'] for subgroup in nested_subgroups])\n"
   ]
  },
  {
   "cell_type": "code",
   "execution_count": 139,
   "metadata": {},
   "outputs": [],
   "source": [
    "\n",
    "def get_current_time_entry(project_ids):\n",
    "    url = \"https://api.track.toggl.com/api/v9/me/time_entries/current\"\n",
    "    headers = {\n",
    "        \"Content-Type\": \"application/json\"\n",
    "    }\n",
    "    auth = (os.environ.get('TOGGL_API_KEY'), \"api_token\")\n",
    "\n",
    "    response = requests.get(url, headers=headers, auth=auth)\n",
    "    response_json = response.json()\n",
    "\n",
    "    if not response_json or 'start' not in response_json or \"project_id\" not in response_json or response_json[\"project_id\"] not in project_ids:\n",
    "        return None\n",
    "\n",
    "    return response_json[\"start\"]"
   ]
  },
  {
   "cell_type": "code",
   "execution_count": 140,
   "metadata": {},
   "outputs": [],
   "source": [
    "def get_time_from_current_time_entry(project_ids):\n",
    "    start_time_str = get_current_time_entry(project_ids)\n",
    "    if not start_time_str:\n",
    "        return 0\n",
    "\n",
    "    start_time = datetime.strptime(start_time_str, '%Y-%m-%dT%H:%M:%S%z')\n",
    "    \n",
    "    return int((datetime.now(start_time.tzinfo) - start_time).total_seconds() / 60)"
   ]
  },
  {
   "cell_type": "code",
   "execution_count": 141,
   "metadata": {},
   "outputs": [],
   "source": [
    "def get_total_time(project_ids, start_date, current_time, file_name, end_date=None):\n",
    "    summary = get_time_entries(start_date, project_ids)\n",
    "    total_mins = current_time + int(summary / 60)\n",
    "    with open(file_name, \"w\") as f:\n",
    "        f.write(str(total_mins))\n",
    "\n",
    "    return total_mins"
   ]
  },
  {
   "cell_type": "code",
   "execution_count": 142,
   "metadata": {},
   "outputs": [],
   "source": [
    "def get_last_week_and_today_time(project_ids):\n",
    "    current_time = get_time_from_current_time_entry(project_ids)\n",
    "    last_week = (datetime.now() - timedelta(days=6)).strftime(DATE_FORMAT)\n",
    "    last_week_total_time = get_total_time(project_ids, last_week, current_time, LAST_WEEK_FILE_NAME)\n",
    "    today = datetime.now().strftime(DATE_FORMAT)\n",
    "    today_total_time = get_total_time(project_ids, today, current_time, LAST_WEEK_FILE_NAME)\n",
    "    return last_week_total_time, today_total_time"
   ]
  },
  {
   "cell_type": "code",
   "execution_count": 143,
   "metadata": {},
   "outputs": [],
   "source": [
    "last_week_total_work_time, today_total_work_time = get_last_week_and_today_time(WORK_PROJECT_IDS)"
   ]
  },
  {
   "cell_type": "code",
   "execution_count": 144,
   "metadata": {},
   "outputs": [],
   "source": [
    "last_week_total_tooling_time, today_total_tooling_time = get_last_week_and_today_time(TOOLING_PROJECT_IDS)"
   ]
  },
  {
   "cell_type": "code",
   "execution_count": 145,
   "metadata": {},
   "outputs": [
    {
     "name": "stdout",
     "output_type": "stream",
     "text": [
      "844\n",
      "384\n"
     ]
    }
   ],
   "source": [
    "print(last_week_total_tooling_time)\n",
    "print(last_week_total_work_time)"
   ]
  },
  {
   "cell_type": "code",
   "execution_count": 146,
   "metadata": {},
   "outputs": [
    {
     "name": "stdout",
     "output_type": "stream",
     "text": [
      "6:24\n",
      "0:00\n",
      "14:04\n",
      "1:46\n"
     ]
    }
   ],
   "source": [
    "print(f\"{last_week_total_work_time//60}:{last_week_total_work_time%60:02d}\")\n",
    "print(f\"{today_total_work_time//60}:{today_total_work_time%60:02d}\")\n",
    "print(f\"{last_week_total_tooling_time//60}:{last_week_total_tooling_time%60:02d}\")\n",
    "print(f\"{today_total_tooling_time//60}:{today_total_tooling_time%60:02d}\")"
   ]
  }
 ],
 "metadata": {
  "kernelspec": {
   "display_name": "pydata-book",
   "language": "python",
   "name": "python3"
  },
  "language_info": {
   "codemirror_mode": {
    "name": "ipython",
    "version": 3
   },
   "file_extension": ".py",
   "mimetype": "text/x-python",
   "name": "python",
   "nbconvert_exporter": "python",
   "pygments_lexer": "ipython3",
   "version": "3.11.0"
  },
  "orig_nbformat": 4,
  "vscode": {
   "interpreter": {
    "hash": "d0a1c35a05dd9a0f90cc68cb48205e5663af9407a5beae0119d15e7f542ce054"
   }
  }
 },
 "nbformat": 4,
 "nbformat_minor": 2
}
