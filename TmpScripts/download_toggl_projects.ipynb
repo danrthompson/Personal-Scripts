{
 "cells": [
  {
   "cell_type": "code",
   "execution_count": 2,
   "metadata": {},
   "outputs": [],
   "source": [
    "import os\n",
    "\n",
    "import pandas as pd\n",
    "from toggl.TogglPy import Toggl\n",
    "\n",
    "WORKSPACE_ID = 397836\n",
    "\n",
    "toggl = Toggl()"
   ]
  },
  {
   "cell_type": "code",
   "execution_count": 3,
   "metadata": {},
   "outputs": [],
   "source": [
    "if api_key := os.environ.get(\"TOGGL_API_KEY\"):\n",
    "    toggl.setAPIKey(api_key)\n",
    "else:\n",
    "    print(\"TOGGL_API_KEY environment variable not set\")\n",
    "    exit(1)\n",
    "\n",
    "# Get all projects\n",
    "projects = toggl.getWorkspaceProjects(WORKSPACE_ID)\n",
    "clients = toggl.getClients()"
   ]
  },
  {
   "cell_type": "code",
   "execution_count": 4,
   "metadata": {},
   "outputs": [],
   "source": [
    "projects_df = pd.DataFrame(projects)\n",
    "clients_df = pd.DataFrame(clients)"
   ]
  },
  {
   "cell_type": "code",
   "execution_count": 10,
   "metadata": {},
   "outputs": [],
   "source": [
    "jdf = projects_df.join(clients_df.set_index('id'), on=\"cid\", how=\"left\", lsuffix=\"_project\", rsuffix=\"_client\")"
   ]
  },
  {
   "cell_type": "code",
   "execution_count": 16,
   "metadata": {},
   "outputs": [],
   "source": [
    "join_df = jdf[[\"name_client\",\"active\",\"name_project\",\"cid\",\"id\"]]"
   ]
  },
  {
   "cell_type": "code",
   "execution_count": 21,
   "metadata": {},
   "outputs": [],
   "source": [
    "join_df = join_df.where(join_df[\"active\"] == True).dropna(how=\"all\")"
   ]
  },
  {
   "cell_type": "code",
   "execution_count": 23,
   "metadata": {},
   "outputs": [],
   "source": [
    "join_df.drop(columns=[\"active\"], inplace=True)"
   ]
  },
  {
   "cell_type": "code",
   "execution_count": 24,
   "metadata": {},
   "outputs": [
    {
     "data": {
      "text/html": [
       "<div>\n",
       "<style scoped>\n",
       "    .dataframe tbody tr th:only-of-type {\n",
       "        vertical-align: middle;\n",
       "    }\n",
       "\n",
       "    .dataframe tbody tr th {\n",
       "        vertical-align: top;\n",
       "    }\n",
       "\n",
       "    .dataframe thead th {\n",
       "        text-align: right;\n",
       "    }\n",
       "</style>\n",
       "<table border=\"1\" class=\"dataframe\">\n",
       "  <thead>\n",
       "    <tr style=\"text-align: right;\">\n",
       "      <th></th>\n",
       "      <th>name_client</th>\n",
       "      <th>name_project</th>\n",
       "      <th>cid</th>\n",
       "      <th>id</th>\n",
       "    </tr>\n",
       "  </thead>\n",
       "  <tbody>\n",
       "    <tr>\n",
       "      <th>0</th>\n",
       "      <td>Med prod</td>\n",
       "      <td>Planning beyond work tasks</td>\n",
       "      <td>61372555</td>\n",
       "      <td>191920568</td>\n",
       "    </tr>\n",
       "    <tr>\n",
       "      <th>1</th>\n",
       "      <td>Fun</td>\n",
       "      <td>Activities - Hobbies</td>\n",
       "      <td>61416606</td>\n",
       "      <td>186944097</td>\n",
       "    </tr>\n",
       "    <tr>\n",
       "      <th>2</th>\n",
       "      <td>Media</td>\n",
       "      <td>Books</td>\n",
       "      <td>61416603</td>\n",
       "      <td>187018119</td>\n",
       "    </tr>\n",
       "    <tr>\n",
       "      <th>3</th>\n",
       "      <td>Media</td>\n",
       "      <td>Podcasts</td>\n",
       "      <td>61416603</td>\n",
       "      <td>186944074</td>\n",
       "    </tr>\n",
       "    <tr>\n",
       "      <th>4</th>\n",
       "      <td>Exercise</td>\n",
       "      <td>Exercise</td>\n",
       "      <td>61416605</td>\n",
       "      <td>186944059</td>\n",
       "    </tr>\n",
       "  </tbody>\n",
       "</table>\n",
       "</div>"
      ],
      "text/plain": [
       "  name_client                name_project       cid         id\n",
       "0    Med prod  Planning beyond work tasks  61372555  191920568\n",
       "1         Fun        Activities - Hobbies  61416606  186944097\n",
       "2       Media                       Books  61416603  187018119\n",
       "3       Media                    Podcasts  61416603  186944074\n",
       "4    Exercise                    Exercise  61416605  186944059"
      ]
     },
     "execution_count": 24,
     "metadata": {},
     "output_type": "execute_result"
    }
   ],
   "source": [
    "join_df.head()"
   ]
  },
  {
   "cell_type": "code",
   "execution_count": 25,
   "metadata": {},
   "outputs": [],
   "source": [
    "join_df.sort_values(by=[\"name_client\",\"name_project\"], inplace=True)"
   ]
  },
  {
   "cell_type": "code",
   "execution_count": 30,
   "metadata": {},
   "outputs": [],
   "source": [
    "output = join_df[[\"name_client\",\"name_project\"]].to_dict(orient=\"records\")"
   ]
  },
  {
   "cell_type": "code",
   "execution_count": 32,
   "metadata": {},
   "outputs": [
    {
     "name": "stdout",
     "output_type": "stream",
     "text": [
      "Avoid - Distracted\n",
      "Avoid - Hypergraphia\n",
      "Avoid - Mindless\n",
      "Chores - Chores\n",
      "Chores - SP: Cleaning room\n",
      "Exercise - Exercise\n",
      "Fun - Activities - Hobbies\n",
      "Fun - Activity\n",
      "Fun - Restaurant\n",
      "Fun - Shopping\n",
      "Med prod - GPT\n",
      "Med prod - Planning beyond work tasks\n",
      "Med prod - Thinking / discussing\n",
      "Med prod - Todoist\n",
      "Med prod - Tracking\n",
      "Med prod - Work Med prod\n",
      "Media - Books\n",
      "Media - Browsing\n",
      "Media - Music\n",
      "Media - Podcasts\n",
      "Media - TV / Movies\n",
      "Media - Video games\n",
      "Mindset - Lucid goal setting\n",
      "Mindset - Mindset\n",
      "Opt - Tooling\n",
      "Personal - Helping\n",
      "Personal - Personal chores\n",
      "Personal - Routines\n",
      "Personal Projects - Personal Projects\n",
      "Sleep - Sleep\n",
      "Social - Social W Ollie\n",
      "Social - Social in person\n",
      "Social - Virtual social\n",
      "Transit - Transit\n",
      "Work - AI Project Implementation\n",
      "Work - AI Thinking/Learning\n",
      "Work - Bounty\n",
      "Work - Dictation App\n",
      "Work - Investments\n",
      "Work - Onlyfans AI\n",
      "Work - Special Work Projects\n",
      "Work - Work planning\n"
     ]
    }
   ],
   "source": [
    "for record in output:\n",
    "    client = record[\"name_client\"]\n",
    "    project = record[\"name_project\"]\n",
    "    print(f\"{client} - {project}\")"
   ]
  },
  {
   "cell_type": "code",
   "execution_count": null,
   "metadata": {},
   "outputs": [],
   "source": [
    "\n"
   ]
  }
 ],
 "metadata": {
  "kernelspec": {
   "display_name": "Python 3",
   "language": "python",
   "name": "python3"
  },
  "language_info": {
   "codemirror_mode": {
    "name": "ipython",
    "version": 3
   },
   "file_extension": ".py",
   "mimetype": "text/x-python",
   "name": "python",
   "nbconvert_exporter": "python",
   "pygments_lexer": "ipython3",
   "version": "3.11.1"
  },
  "orig_nbformat": 4
 },
 "nbformat": 4,
 "nbformat_minor": 2
}
