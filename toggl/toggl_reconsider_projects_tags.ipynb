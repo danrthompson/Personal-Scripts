{
 "cells": [
  {
   "cell_type": "code",
   "execution_count": 8,
   "metadata": {},
   "outputs": [],
   "source": [
    "import re\n",
    "\n",
    "import pandas as pd"
   ]
  },
  {
   "cell_type": "code",
   "execution_count": 3,
   "metadata": {},
   "outputs": [],
   "source": [
    "toggl_projects_raw = !toggl projects ls\n",
    "toggl_clients_raw = !toggl clients ls\n",
    "toggl_tags_raw = !toggl tags ls\n",
    "client  = toggl_clients_raw[1]\n",
    "tag = toggl_tags_raw[1]\n",
    "project = toggl_projects_raw[1]"
   ]
  },
  {
   "cell_type": "code",
   "execution_count": 27,
   "metadata": {},
   "outputs": [],
   "source": [
    "def process_tag_or_client(raw_list):\n",
    "    groups = map(lambda item: re.match(\"^\\s*(\\w+\\s?)+\\s*(\\d+)\\s*$\", item).groups(), raw_list[1:])\n",
    "    name_to_id = dict(map(lambda item: (item[0], item[1]), groups))\n",
    "    return name_to_id"
   ]
  },
  {
   "cell_type": "code",
   "execution_count": 28,
   "metadata": {},
   "outputs": [
    {
     "data": {
      "text/plain": [
       "{'Social ': '61692404',\n",
       " 'Work ': '61372545',\n",
       " 'Chores ': '61372556',\n",
       " 'Fun ': '61416606',\n",
       " 'Sleep ': '61449720',\n",
       " 'Exercise ': '61416605',\n",
       " 'Media ': '61416603',\n",
       " 'Avoid ': '61478444',\n",
       " 'Transit ': '61691186',\n",
       " 'prod ': '61372555',\n",
       " 'Personal ': '61754956',\n",
       " 'Opt ': '61757097'}"
      ]
     },
     "execution_count": 28,
     "metadata": {},
     "output_type": "execute_result"
    }
   ],
   "source": [
    "process_tag_or_client(toggl_clients_raw)"
   ]
  },
  {
   "cell_type": "code",
   "execution_count": 26,
   "metadata": {},
   "outputs": [],
   "source": [
    "toggl_tag_groups = map(lambda tag: re.match(\"^\\s*(\\w+\\s?)+\\s*(\\d+)\\s*$\", tag).groups(), toggl_tags_raw[1:])\n",
    "toggl_tag_to_id = dict(map(lambda tag: (tag[0], tag[1]), toggl_tag_groups))"
   ]
  },
  {
   "cell_type": "code",
   "execution_count": 25,
   "metadata": {},
   "outputs": [
    {
     "name": "stdout",
     "output_type": "stream",
     "text": [
      " Name      Id       \n",
      " Med prod  61372555 \n"
     ]
    }
   ],
   "source": [
    "for index, tag in enumerate(toggl_clients_raw):\n",
    "    match = re.match(\"^\\s*(\\w+)\\s*(\\d+)\\s*$\", tag)\n",
    "\n",
    "    if not match:\n",
    "        print(tag)\n"
   ]
  },
  {
   "cell_type": "code",
   "execution_count": 36,
   "metadata": {},
   "outputs": [
    {
     "name": "stdout",
     "output_type": "stream",
     "text": [
      "Error: 400\n"
     ]
    },
    {
     "data": {
      "text/plain": [
       "<Response [400]>"
      ]
     },
     "execution_count": 36,
     "metadata": {},
     "output_type": "execute_result"
    }
   ],
   "source": [
    "\n",
    "import requests\n",
    "from base64 import b64encode\n",
    "from datetime import datetime\n",
    "\n",
    "api_token = \"83023fc45cedcf56f11bb9d9c34a3093\"  # Replace with your actual API token\n",
    "auth_string = f\"{api_token}:api_token\"\n",
    "encoded_auth_string = b64encode(auth_string.encode(\"ascii\")).decode(\"ascii\")\n",
    "\n",
    "# Define the API URL and headers\n",
    "base_url = \"https://api.track.toggl.com/api/v9/me/time_entries\"\n",
    "headers = {\n",
    "    \"Content-Type\": \"application/json\",\n",
    "    \"Authorization\": f\"Basic {encoded_auth_string}\",\n",
    "}\n",
    "\n",
    "# Set up the payload with the required parameters\n",
    "start_date = \"2023-01-01\"\n",
    "end_date = \"2023-02-30\"\n",
    "payload = {\n",
    "    \"start_date\": start_date,\n",
    "    \"end_date\": end_date,\n",
    "}\n",
    "\n",
    "# Make the API request\n",
    "response = requests.get(base_url, headers=headers, params=payload)\n",
    "\n",
    "# Define the project ID to project mapping\n",
    "project_mapping = {\n",
    "    191098195: \"Helping\",\n",
    "    188045536: \"Personal chores\",\n",
    "    187633817: \"Routines\",\n",
    "    186944070: \"TV / Movies\",\n",
    "    186944074: \"Podcasts\",\n",
    "    187043600: \"Sleep\",\n",
    "    187112333: \"Video games\",\n",
    "    187316243: \"Investments\",\n",
    "    187391432: \"Music\",\n",
    "    188079309: \"Shopping\",\n",
    "    188079427: \"Work planning\",\n",
    "    191499108: \"Bounty\",\n",
    "    188327793: \"Restaurant\",\n",
    "    188537695: \"SP: Cleaning room\",\n",
    "    188540214: \"Social W Ollie\",\n",
    "    188791802: \"Activity\",\n",
    "    188326563: \"Special Work Projects\",\n",
    "    186944097: \"Activities - Hobbies\",\n",
    "    187018119: \"Books\",\n",
    "    186944059: \"Exercise\",\n",
    "    186944087: \"Social in person\",\n",
    "    186676441: \"Chores\",\n",
    "    187041688: \"Thinking / discussing\",\n",
    "    186193242: \"Work Med prod\",\n",
    "    188088746: \"Virtual social\",\n",
    "    186181587: \"Tooling\",\n",
    "    187986408: \"Mindless\",\n",
    "    188079303: \"Transit\",\n",
    "    189390036: \"AI Project Implementation\",\n",
    "    186181594: \"AI Thinking/Learning\",\n",
    "    189511827: \"Mindset\",\n",
    "    187081476: \"Browsing\",\n",
    "}\n",
    "\n",
    "# Check if the request was successful\n",
    "if response.status_code == 200:\n",
    "    time_entries = response.json()\n",
    "    time_entry_strings = []\n",
    "    for entry in time_entries:\n",
    "        project = project_mapping.get(entry[\"project_id\"], \"Unknown\")\n",
    "        entry_str = (\n",
    "            f\"Project: {project}, \"\n",
    "            f\"Description: {entry['description']}, \"\n",
    "            f\"Tags: {entry['tags']}, \"\n",
    "            f\"Duration: {entry['duration']} seconds, \"\n",
    "            f\"Start: {entry['start']}, \"\n",
    "            f\"Stop: {entry['stop']}\"\n",
    "        )\n",
    "        time_entry_strings.append(entry_str)\n",
    "\n",
    "    # Print the string representations of the time entries\n",
    "    print(\"Time entries since the beginning of 2023:\")\n",
    "    for entry_str in time_entry_strings:\n",
    "        print(entry_str)\n",
    "else:\n",
    "    print(f\"Error: {response.status_code}\")\n",
    "\n",
    "response"
   ]
  },
  {
   "cell_type": "code",
   "execution_count": 37,
   "metadata": {},
   "outputs": [
    {
     "data": {
      "text/plain": [
       "'\"start_date must not be earlier than 2023-01-30\"'"
      ]
     },
     "execution_count": 37,
     "metadata": {},
     "output_type": "execute_result"
    }
   ],
   "source": [
    "response.text"
   ]
  },
  {
   "cell_type": "code",
   "execution_count": null,
   "metadata": {},
   "outputs": [],
   "source": []
  }
 ],
 "metadata": {
  "kernelspec": {
   "display_name": "Python 3",
   "language": "python",
   "name": "python3"
  },
  "language_info": {
   "codemirror_mode": {
    "name": "ipython",
    "version": 3
   },
   "file_extension": ".py",
   "mimetype": "text/x-python",
   "name": "python",
   "nbconvert_exporter": "python",
   "pygments_lexer": "ipython3",
   "version": "3.10.5"
  },
  "orig_nbformat": 4
 },
 "nbformat": 4,
 "nbformat_minor": 2
}
