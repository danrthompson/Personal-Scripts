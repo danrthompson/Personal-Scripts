{
 "cells": [
  {
   "cell_type": "markdown",
   "metadata": {},
   "source": [
    "# Trello API Stuff"
   ]
  },
  {
   "attachments": {},
   "cell_type": "markdown",
   "metadata": {},
   "source": [
    "## Setup"
   ]
  },
  {
   "cell_type": "code",
   "execution_count": 36,
   "metadata": {},
   "outputs": [],
   "source": [
    "import os\n",
    "\n",
    "from trello import TrelloClient\n",
    "from trello.card import Card"
   ]
  },
  {
   "cell_type": "code",
   "execution_count": 2,
   "metadata": {},
   "outputs": [],
   "source": [
    "trello_client = TrelloClient(api_key=os.environ.get(\"TRELLO_API_KEY\"), api_secret=os.environ.get(\"TRELLO_API_SECRET\"), token=os.environ.get(\"TRELLO_PERSONAL_TOKEN\"))\n",
    "board = trello_client.list_boards()[0]"
   ]
  },
  {
   "cell_type": "code",
   "execution_count": 3,
   "metadata": {},
   "outputs": [],
   "source": [
    "lists = board.list_lists()\n",
    "cards = board.get_cards()\n",
    "custom_fields = board.get_custom_field_definitions()\n",
    "labels = board.get_labels()"
   ]
  },
  {
   "cell_type": "code",
   "execution_count": 16,
   "metadata": {},
   "outputs": [],
   "source": [
    "# board.delete_label()\n",
    "# board.delete_custom_field_definition()\n",
    "# board.delete_custom_field_list_option()\n",
    "# board.get_custom_field_list_options()"
   ]
  },
  {
   "attachments": {},
   "cell_type": "markdown",
   "metadata": {},
   "source": [
    "## Current task"
   ]
  },
  {
   "attachments": {},
   "cell_type": "markdown",
   "metadata": {},
   "source": [
    "### Get content from a set of cards by label"
   ]
  },
  {
   "cell_type": "code",
   "execution_count": 8,
   "metadata": {},
   "outputs": [],
   "source": [
    "review_label = [label for label in labels if label.name.startswith(\"Review\")][0]"
   ]
  },
  {
   "cell_type": "code",
   "execution_count": 10,
   "metadata": {},
   "outputs": [],
   "source": [
    "review_cards = [card for card in cards if review_label in card.labels]"
   ]
  },
  {
   "cell_type": "code",
   "execution_count": 38,
   "metadata": {},
   "outputs": [],
   "source": [
    "def convert_card_to_readable_format(card: Card) -> str:\n",
    "    name = card.name\n",
    "    description = card.description\n",
    "    checklists_str = \"\"\n",
    "    for checklist in card.checklists:\n",
    "        checklist_name = checklist.name\n",
    "        checklist_items = [f\"- {item['name']}\" for item in checklist.items]\n",
    "        checklists_items_str = \"\\n\".join(checklist_items)\n",
    "        checklists_str += f\"{checklist_name}\\n{checklists_items_str}\\n\\n\"\n",
    "\n",
    "    card_str = f\"{name}\\n\\nDescription: {description}\"\n",
    "    if checklists_str:\n",
    "        card_str += f\"\\n\\nChecklists:\\n\\n{checklists_str}\"\n",
    "\n",
    "    return card_str\n",
    "    \n"
   ]
  },
  {
   "cell_type": "code",
   "execution_count": 41,
   "metadata": {},
   "outputs": [],
   "source": [
    "card_strs = [convert_card_to_readable_format(card) for card in review_cards]"
   ]
  },
  {
   "cell_type": "code",
   "execution_count": 42,
   "metadata": {},
   "outputs": [
    {
     "data": {
      "text/plain": [
       "'(I will do this or add this to the Trello tooling card- depends on whether it is necessary in terms of feeling confident for the future. But I don’t think it’s necessary. )Maybe if I’m worried about it, make an important Trello ideas, card or an important daily note ideas card. Or figure out a way to make cards out of my favorite things. My most interesting ideas. And label them with some things that I can filter them out. Maybe tooling is enough. Make sure other cards that are actually really important. Are not using that tooling label. They can be high priority, but make sure there’s nothing with that label that I’m not trying to limit to 15 minutes per day. If I’m using checkmarks or check boxes instead of cards, make sure that I feel confident that I can find my best ideas. Because checkmarks don’t get priorities. May make sense to make cards and the rest ideas.\\n\\nDescription: '"
      ]
     },
     "execution_count": 42,
     "metadata": {},
     "output_type": "execute_result"
    }
   ],
   "source": []
  },
  {
   "attachments": {},
   "cell_type": "markdown",
   "metadata": {},
   "source": [
    "## Old Tasks"
   ]
  },
  {
   "attachments": {},
   "cell_type": "markdown",
   "metadata": {},
   "source": [
    "### Add labels to list of card urls"
   ]
  },
  {
   "cell_type": "code",
   "execution_count": null,
   "metadata": {},
   "outputs": [],
   "source": [
    "cards_to_add_labels = set([\n",
    "    \"https://trello.com/c/UQRiJaij\",\n",
    "    \"https://trello.com/c/ie4cGMdY\",\n",
    "    \"https://trello.com/c/svt41tP7\",\n",
    "    \"https://trello.com/c/5VwUcDtr\",\n",
    "    \"https://trello.com/c/yHVw6WiY\",\n",
    "    \"https://trello.com/c/ExTbQMWN\",\n",
    "    \"https://trello.com/c/ekmQybls\",\n",
    "    \"https://trello.com/c/uK9VUKjM\",\n",
    "    \"https://trello.com/c/q0ego4fQ\",\n",
    "    \"https://trello.com/c/ZaxEka57\",\n",
    "    \"https://trello.com/c/d7x7Me68\",\n",
    "    \"https://trello.com/c/A3fgzyGV\",\n",
    "    \"https://trello.com/c/Na86IK7N\",\n",
    "    \"https://trello.com/c/E5oXEmjy\",\n",
    "    \"https://trello.com/c/uw4Vy8VF\",\n",
    "    \"https://trello.com/c/MyZjucd9\",\n",
    "    \"https://trello.com/c/fLOlNKYa\",\n",
    "    \"https://trello.com/c/XQr6DR8N\",\n",
    "    \"https://trello.com/c/0l94Quwq\",\n",
    "    \"https://trello.com/c/WKenyPwT\",\n",
    "    \"https://trello.com/c/UNyMT9nx\",\n",
    "    \"https://trello.com/c/y3VNx6pt\",\n",
    "    \"https://trello.com/c/oBDP9Yy8\",\n",
    "])\n",
    "cards_in_list = [card for card in cards if card.short_url in cards_to_add_labels]\n",
    "review_sprint_label = [label for label in labels if label.name.startswith(\"Review\")][0]\n",
    "for card in cards_in_list:\n",
    "    if review_sprint_label in card.labels:\n",
    "        continue\n",
    "    card.add_label(review_sprint_label)"
   ]
  },
  {
   "attachments": {},
   "cell_type": "markdown",
   "metadata": {},
   "source": [
    "### Old label modification task"
   ]
  },
  {
   "cell_type": "code",
   "execution_count": null,
   "metadata": {},
   "outputs": [],
   "source": [
    "# old label modification task\n",
    "label_to_color = {label.name: label.color for label in labels}\n",
    "label_to_color\n",
    "labels\n",
    "new_label_names = ['Personal', 'Opt', 'Real work', 'Work', 'Thinking', 'Other']\n",
    "old_label_names = list(map(lambda nm: f\"{nm} old\", new_label_names))\n",
    "\n",
    "new_labels = []\n",
    "old_labels = []\n",
    "for label in labels:\n",
    "    if label.name in new_label_names:\n",
    "        new_labels.append(label)\n",
    "\n",
    "    if label.name in old_label_names:\n",
    "        old_labels.append(label)\n",
    "\n",
    "old_to_new_labels = {\n",
    "    old_labels[0]: new_labels[1],\n",
    "    old_labels[1]: new_labels[0],\n",
    "    old_labels[2]: new_labels[3],\n",
    "}\n",
    "\n",
    "old_to_new_labels\n",
    "card = cards[0]\n",
    "for label in card.labels:\n",
    "    print(f\"Name {label.name}, Color {label.color}\")\n",
    "\n",
    "# card.remove_label(new_labels[0])\n",
    "# card.add_label(new_labels[0])\n",
    "# card.labels[0] == labels[0]\n",
    "for card in cards:\n",
    "    card_labels = card.labels\n",
    "    for label in card_labels:\n",
    "        if label in old_labels:\n",
    "            new_label = old_to_new_labels[label]\n",
    "            card.remove_label(label)\n",
    "            card.add_label(new_label)"
   ]
  }
 ],
 "metadata": {
  "kernelspec": {
   "display_name": "Python 3",
   "language": "python",
   "name": "python3"
  },
  "language_info": {
   "codemirror_mode": {
    "name": "ipython",
    "version": 3
   },
   "file_extension": ".py",
   "mimetype": "text/x-python",
   "name": "python",
   "nbconvert_exporter": "python",
   "pygments_lexer": "ipython3",
   "version": "3.11.1"
  },
  "orig_nbformat": 4
 },
 "nbformat": 4,
 "nbformat_minor": 2
}
